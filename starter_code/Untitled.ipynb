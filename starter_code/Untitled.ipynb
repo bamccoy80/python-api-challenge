{
 "cells": [
  {
   "cell_type": "code",
   "execution_count": 1,
   "id": "337a080c-c645-420b-9fe7-9c7abdbfe776",
   "metadata": {},
   "outputs": [
    {
     "name": "stdout",
     "output_type": "stream",
     "text": [
      "Note: you may need to restart the kernel to use updated packages.Requirement already satisfied: citipy in c:\\users\\user\\appdata\\local\\programs\\python\\python313\\lib\\site-packages (0.0.6)\n",
      "Requirement already satisfied: kdtree>=0.12 in c:\\users\\user\\appdata\\local\\programs\\python\\python313\\lib\\site-packages (from citipy) (0.16)\n",
      "\n"
     ]
    },
    {
     "name": "stderr",
     "output_type": "stream",
     "text": [
      "\n",
      "[notice] A new release of pip is available: 24.2 -> 24.3.1\n",
      "[notice] To update, run: python.exe -m pip install --upgrade pip\n"
     ]
    }
   ],
   "source": [
    "pip install citipy"
   ]
  },
  {
   "cell_type": "code",
   "execution_count": 2,
   "id": "e0ff4d05-1a70-4068-82b8-815248aefe71",
   "metadata": {},
   "outputs": [],
   "source": [
    "from citipy import citipy"
   ]
  },
  {
   "cell_type": "code",
   "execution_count": 4,
   "id": "03ed63cd-a288-4943-a899-4281fe57d9ac",
   "metadata": {},
   "outputs": [
    {
     "name": "stdout",
     "output_type": "stream",
     "text": [
      "Note: you may need to restart the kernel to use updated packages.\n"
     ]
    },
    {
     "name": "stderr",
     "output_type": "stream",
     "text": [
      "ERROR: Could not find a version that satisfies the requirement time (from versions: none)\n",
      "\n",
      "[notice] A new release of pip is available: 24.2 -> 24.3.1\n",
      "[notice] To update, run: python.exe -m pip install --upgrade pip\n",
      "ERROR: No matching distribution found for time\n"
     ]
    }
   ],
   "source": [
    "pip install time"
   ]
  },
  {
   "cell_type": "code",
   "execution_count": 5,
   "id": "0be8ea50-93e6-47fe-8f68-358e375e98ea",
   "metadata": {},
   "outputs": [
    {
     "name": "stdout",
     "output_type": "stream",
     "text": [
      "atlanta\n"
     ]
    }
   ],
   "source": [
    "cityName = citipy.nearest_city(33.748, -84.387).city_name\n",
    "print(cityName)"
   ]
  },
  {
   "cell_type": "code",
   "execution_count": 18,
   "id": "1dd56615-a56c-4b8c-b104-4c3b72cd861e",
   "metadata": {},
   "outputs": [],
   "source": [
    "import numpy as np\n"
   ]
  },
  {
   "cell_type": "code",
   "execution_count": 19,
   "id": "6062c071-4bc4-4aa0-98d4-acf84bb4befa",
   "metadata": {},
   "outputs": [],
   "source": [
    "latRange = (24, 50)\n",
    "lngRange = (-125, 68)"
   ]
  },
  {
   "cell_type": "code",
   "execution_count": 28,
   "id": "509f835a-2725-4f78-9b01-d610c8ac543b",
   "metadata": {},
   "outputs": [],
   "source": [
    "lats = np.random.uniform(latRange[0], latRange[1], size=50)\n",
    "lons = np.random.uniform(lngRange[0], lngRange[1], size=50)\n",
    "\n",
    "latLongs = zip(lats, lons)"
   ]
  },
  {
   "cell_type": "code",
   "execution_count": 29,
   "id": "a4a9c746-de81-4fb0-95e4-af8623dd45b8",
   "metadata": {},
   "outputs": [
    {
     "name": "stdout",
     "output_type": "stream",
     "text": [
      "abilene\n",
      "reggane\n",
      "hamilton\n",
      "carolina beach\n",
      "la jolla\n",
      "taroudant\n",
      "bailesti\n",
      "ojinaga\n",
      "ironwood\n",
      "poland\n",
      "la sarre\n",
      "fisterra\n",
      "tuzi\n",
      "columbia\n",
      "sterling\n",
      "tralee\n",
      "cockburn town\n",
      "horta\n",
      "aktobe\n",
      "ar rutbah\n",
      "kish\n",
      "fulton\n",
      "ribeira grande\n",
      "zuni pueblo\n",
      "codrington\n",
      "gueltat zemmour\n",
      "estacion coahuila\n",
      "la junta\n",
      "lent'ekhi\n",
      "tarumovka\n",
      "praia da vitoria\n",
      "ocean city\n",
      "huatabampo\n",
      "siwa oasis\n",
      "ternopil\n",
      "zag\n",
      "cedeira\n",
      "mount pearl\n",
      "skidaway island\n",
      "mont-laurier\n",
      "andkhoy\n",
      "timmins\n",
      "didim\n",
      "trapani\n",
      "cape canaveral\n",
      "halabjah\n"
     ]
    }
   ],
   "source": [
    "cityNames = []\n",
    "\n",
    "for coords in latLongs:\n",
    "    cityName = citipy.nearest_city(coords[0], coords[1]).city_name\n",
    "\n",
    "    if cityName not in cityNames:\n",
    "        cityNames.append(cityName)\n",
    "for c in cityNames:\n",
    "    print(c)"
   ]
  },
  {
   "cell_type": "code",
   "execution_count": 4,
   "id": "c6ce7bfb-6c1d-42f4-b0e5-f9dec6183ca5",
   "metadata": {},
   "outputs": [],
   "source": [
    "import requests\n",
    "import json\n",
    "import pandas as pd"
   ]
  },
  {
   "cell_type": "code",
   "execution_count": 5,
   "id": "a283e3dc-ad3e-4111-96f5-1350f9a31b34",
   "metadata": {},
   "outputs": [],
   "source": [
    "api_key = \"959f24faa07c164b90ff3b3c5fac1f7a\""
   ]
  },
  {
   "cell_type": "code",
   "execution_count": 6,
   "id": "60788476-1f8e-4c79-90bb-b010b5fdcdad",
   "metadata": {},
   "outputs": [],
   "source": [
    "url = \"http://api.openweathermap.org/data/2.5/weather?\"\n",
    "units = 'imperial'\n",
    "queryURL = f\"{url}appid={api_key}&units={units}&q=\""
   ]
  },
  {
   "cell_type": "code",
   "execution_count": 7,
   "id": "6cd6b3dd-0ed6-4487-9aa9-5e1eb727cb89",
   "metadata": {},
   "outputs": [
    {
     "data": {
      "text/plain": [
       "{'coord': {'lon': -80.8431, 'lat': 35.2271},\n",
       " 'weather': [{'id': 802,\n",
       "   'main': 'Clouds',\n",
       "   'description': 'scattered clouds',\n",
       "   'icon': '03d'}],\n",
       " 'base': 'stations',\n",
       " 'main': {'temp': 67.21,\n",
       "  'feels_like': 65.88,\n",
       "  'temp_min': 64.17,\n",
       "  'temp_max': 69.42,\n",
       "  'pressure': 1018,\n",
       "  'humidity': 48,\n",
       "  'sea_level': 1018,\n",
       "  'grnd_level': 992},\n",
       " 'visibility': 10000,\n",
       " 'wind': {'speed': 9.22, 'deg': 200},\n",
       " 'clouds': {'all': 40},\n",
       " 'dt': 1732558200,\n",
       " 'sys': {'type': 1,\n",
       "  'id': 3648,\n",
       "  'country': 'US',\n",
       "  'sunrise': 1732536522,\n",
       "  'sunset': 1732572765},\n",
       " 'timezone': -18000,\n",
       " 'id': 4460243,\n",
       " 'name': 'Charlotte',\n",
       " 'cod': 200}"
      ]
     },
     "execution_count": 7,
     "metadata": {},
     "output_type": "execute_result"
    }
   ],
   "source": [
    "city = \"Charlotte\"\n",
    "queryURL += city\n",
    "\n",
    "weather = requests.get(queryURL)\n",
    "\n",
    "weatherJSON = weather.json()\n",
    "weatherJSON"
   ]
  },
  {
   "cell_type": "code",
   "execution_count": 12,
   "id": "5998b905-0f36-441f-bf91-4069eee44a2b",
   "metadata": {},
   "outputs": [
    {
     "ename": "NameError",
     "evalue": "name 'cityNames' is not defined",
     "output_type": "error",
     "traceback": [
      "\u001b[1;31m---------------------------------------------------------------------------\u001b[0m",
      "\u001b[1;31mNameError\u001b[0m                                 Traceback (most recent call last)",
      "Cell \u001b[1;32mIn[12], line 7\u001b[0m\n\u001b[0;32m      4\u001b[0m cities \u001b[38;5;241m=\u001b[39m []\n\u001b[0;32m      5\u001b[0m queryURL \u001b[38;5;241m=\u001b[39m \u001b[38;5;124mf\u001b[39m\u001b[38;5;124m\"\u001b[39m\u001b[38;5;132;01m{\u001b[39;00murl\u001b[38;5;132;01m}\u001b[39;00m\u001b[38;5;124mappid=\u001b[39m\u001b[38;5;132;01m{\u001b[39;00mapi_key\u001b[38;5;132;01m}\u001b[39;00m\u001b[38;5;124m&units=\u001b[39m\u001b[38;5;132;01m{\u001b[39;00munits\u001b[38;5;132;01m}\u001b[39;00m\u001b[38;5;124m&q=\u001b[39m\u001b[38;5;124m\"\u001b[39m\n\u001b[1;32m----> 7\u001b[0m \u001b[38;5;28;01mfor\u001b[39;00m city \u001b[38;5;129;01min\u001b[39;00m \u001b[43mcityNames\u001b[49m:\n\u001b[0;32m      9\u001b[0m     \u001b[38;5;28;01mtry\u001b[39;00m:\n\u001b[0;32m     10\u001b[0m         cityQuery \u001b[38;5;241m=\u001b[39m \u001b[38;5;124mf\u001b[39m\u001b[38;5;124m\"\u001b[39m\u001b[38;5;132;01m{\u001b[39;00mquery\u001b[38;5;132;01m}\u001b[39;00m\u001b[38;5;132;01m{\u001b[39;00mcity\u001b[38;5;132;01m}\u001b[39;00m\u001b[38;5;124m\"\u001b[39m\n",
      "\u001b[1;31mNameError\u001b[0m: name 'cityNames' is not defined"
     ]
    }
   ],
   "source": [
    "temperatures = [] \n",
    "lats = []\n",
    "lons= []\n",
    "cities = []\n",
    "queryURL = f\"{url}appid={api_key}&units={units}&q=\"\n",
    "\n",
    "for city in cityNames:\n",
    "\n",
    "    try:\n",
    "        cityQuery = f\"{query}{city}\"\n",
    "\n",
    "      \n",
    "        response = requests.get(cityQuery).json()\n",
    "       \n",
    "        temperature.append(response['main']['temp'])\n",
    "        lats.append(response['coord']['lat'])\n",
    "        lons.append(response['coord']['lon'])\n",
    "        cities.append(response['name'])\n",
    "    \n",
    "    except:\n",
    "        pass\n",
    "\n",
    "cityDataDF = pd.DataFrame(\n",
    "    {\n",
    "        \"City Name\" : cityNames,\n",
    "        \"Fahrenheit Temperature\": temperatures,\n",
    "        \"Latitude\": lats,\n",
    "        \"Longiture\": lons\n",
    "     \n",
    "   }    \n",
    ")\n",
    "\n",
    "cityDataDF\n"
   ]
  },
  {
   "cell_type": "code",
   "execution_count": 13,
   "id": "d9f2f30d-86c7-48e3-a0e3-7924d00f8f10",
   "metadata": {},
   "outputs": [],
   "source": [
    "#'coord': {'lon': -80.8431, 'lat': 35.2271"
   ]
  },
  {
   "cell_type": "code",
   "execution_count": 18,
   "id": "c285ba07-8574-4c0e-be75-469bfac66eb6",
   "metadata": {},
   "outputs": [],
   "source": [
    "geoapify_key = \"b9e7add910ad4a158775b09f4f16fd8d\""
   ]
  },
  {
   "cell_type": "code",
   "execution_count": 21,
   "id": "1cffa877-869c-4486-a296-17b345820df3",
   "metadata": {},
   "outputs": [
    {
     "name": "stdout",
     "output_type": "stream",
     "text": [
      "{\n",
      "    \"statusCode\": 401,\n",
      "    \"error\": \"Unauthorized\",\n",
      "    \"message\": \"Invalid apiKey\"\n",
      "}\n"
     ]
    }
   ],
   "source": [
    "latitude = 35.2271\n",
    "longitude = -80.8431\n",
    "base_url = \"https://api.geoapify.com/v2/places\"\n",
    "\n",
    "#set parameters\n",
    "catergory = \"accommodation.hotel\"\n",
    "radius = 8000 # sets the radius to search\n",
    "\n",
    "filters = f\"circle:{longitude},{latitude},{radius}\"\n",
    "bias = f\"proximity:{longitude},{latitude}\"\n",
    "limit = 10\n",
    "\n",
    "#setup parameter dictionary\n",
    "\n",
    "parameters = {\n",
    "    \"categories\": catergory,\n",
    "    \"limit\": limit,\n",
    "    \"filter\": filters,\n",
    "    \"bias\": bias,\n",
    "    \"apikey\": geoapify_key\n",
    "\n",
    "}\n",
    "\n",
    "response = requests.get(base_url, params=parameters).json()\n",
    "\n",
    "print(json.dumps(response, indent=4))\n",
    "    "
   ]
  },
  {
   "cell_type": "code",
   "execution_count": 22,
   "id": "ada7eee4-269e-4109-801c-b64f371c515f",
   "metadata": {},
   "outputs": [
    {
     "ename": "KeyError",
     "evalue": "'features'",
     "output_type": "error",
     "traceback": [
      "\u001b[1;31m---------------------------------------------------------------------------\u001b[0m",
      "\u001b[1;31mKeyError\u001b[0m                                  Traceback (most recent call last)",
      "Cell \u001b[1;32mIn[22], line 1\u001b[0m\n\u001b[1;32m----> 1\u001b[0m \u001b[38;5;28mprint\u001b[39m(\u001b[43mresponse\u001b[49m\u001b[43m[\u001b[49m\u001b[38;5;124;43m\"\u001b[39;49m\u001b[38;5;124;43mfeatures\u001b[39;49m\u001b[38;5;124;43m\"\u001b[39;49m\u001b[43m]\u001b[49m[\u001b[38;5;241m0\u001b[39m][\u001b[38;5;124m\"\u001b[39m\u001b[38;5;124mproperties\u001b[39m\u001b[38;5;124m\"\u001b[39m][\u001b[38;5;124m\"\u001b[39m\u001b[38;5;124mname\u001b[39m\u001b[38;5;124m\"\u001b[39m])\n\u001b[0;32m      2\u001b[0m \u001b[38;5;28mprint\u001b[39m(response[\u001b[38;5;124m\"\u001b[39m\u001b[38;5;124mfeatures\u001b[39m\u001b[38;5;124m\"\u001b[39m][\u001b[38;5;241m0\u001b[39m][\u001b[38;5;124m\"\u001b[39m\u001b[38;5;124mproperties\u001b[39m\u001b[38;5;124m\"\u001b[39m][\u001b[38;5;124m\"\u001b[39m\u001b[38;5;124maddress_line2\u001b[39m\u001b[38;5;124m\"\u001b[39m])\n",
      "\u001b[1;31mKeyError\u001b[0m: 'features'"
     ]
    }
   ],
   "source": [
    "print(response[\"features\"][0][\"properties\"][\"name\"])\n",
    "print(response[\"features\"][0][\"properties\"][\"address_line2\"])\n"
   ]
  },
  {
   "cell_type": "code",
   "execution_count": null,
   "id": "5fc04248-e26f-4f01-b45f-faba81b38a57",
   "metadata": {},
   "outputs": [],
   "source": [
    "citydata.head()"
   ]
  }
 ],
 "metadata": {
  "kernelspec": {
   "display_name": "Python 3 (ipykernel)",
   "language": "python",
   "name": "python3"
  },
  "language_info": {
   "codemirror_mode": {
    "name": "ipython",
    "version": 3
   },
   "file_extension": ".py",
   "mimetype": "text/x-python",
   "name": "python",
   "nbconvert_exporter": "python",
   "pygments_lexer": "ipython3",
   "version": "3.13.0"
  }
 },
 "nbformat": 4,
 "nbformat_minor": 5
}
